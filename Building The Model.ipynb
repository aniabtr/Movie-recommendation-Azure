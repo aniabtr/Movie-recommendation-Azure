{
 "cells": [
  {
   "cell_type": "code",
   "execution_count": 0,
   "metadata": {
    "application/vnd.databricks.v1+cell": {
     "cellMetadata": {
      "byteLimit": 2048000,
      "rowLimit": 10000
     },
     "inputWidgets": {},
     "nuid": "78e2bbdc-bf9a-47cf-9a17-a405c9252291",
     "showTitle": false,
     "title": ""
    }
   },
   "outputs": [],
   "source": [
    "rating='dbfs:/mnt/data/raw_data/ratings.csv'\n",
    "movies='dbfs:/mnt/data/raw_data/movies.csv'"
   ]
  },
  {
   "cell_type": "code",
   "execution_count": 0,
   "metadata": {
    "application/vnd.databricks.v1+cell": {
     "cellMetadata": {
      "byteLimit": 2048000,
      "rowLimit": 10000
     },
     "inputWidgets": {},
     "nuid": "c7d07bef-09e6-4360-bb26-9a55243848bf",
     "showTitle": false,
     "title": ""
    }
   },
   "outputs": [
    {
     "output_type": "display_data",
     "data": {
      "text/html": [
       "<style scoped>\n",
       "  .table-result-container {\n",
       "    max-height: 300px;\n",
       "    overflow: auto;\n",
       "  }\n",
       "  table, th, td {\n",
       "    border: 1px solid black;\n",
       "    border-collapse: collapse;\n",
       "  }\n",
       "  th, td {\n",
       "    padding: 5px;\n",
       "  }\n",
       "  th {\n",
       "    text-align: left;\n",
       "  }\n",
       "</style><div class='table-result-container'><table class='table-result'><thead style='background-color: white'><tr><th>path</th><th>name</th><th>size</th><th>modificationTime</th></tr></thead><tbody><tr><td>dbfs:/mnt/data/raw_data/genome-tags.csv</td><td>genome-tags.csv</td><td>18103</td><td>1724837985000</td></tr><tr><td>dbfs:/mnt/data/raw_data/movies.csv</td><td>movies.csv</td><td>4192335</td><td>1726041368000</td></tr><tr><td>dbfs:/mnt/data/raw_data/movies_schema.csv</td><td>movies_schema.csv</td><td>20</td><td>1725437651000</td></tr><tr><td>dbfs:/mnt/data/raw_data/ratings.csv</td><td>ratings.csv</td><td>933898879</td><td>1724838037000</td></tr><tr><td>dbfs:/mnt/data/raw_data/ratings_schema.csv</td><td>ratings_schema.csv</td><td>32</td><td>1725437651000</td></tr></tbody></table></div>"
      ]
     },
     "metadata": {
      "application/vnd.databricks.v1+output": {
       "addedWidgets": {},
       "aggData": [],
       "aggError": "",
       "aggOverflow": false,
       "aggSchema": [],
       "aggSeriesLimitReached": false,
       "aggType": "",
       "arguments": {},
       "columnCustomDisplayInfos": {},
       "data": [
        [
         "dbfs:/mnt/data/raw_data/genome-tags.csv",
         "genome-tags.csv",
         18103,
         1724837985000
        ],
        [
         "dbfs:/mnt/data/raw_data/movies.csv",
         "movies.csv",
         4192335,
         1726041368000
        ],
        [
         "dbfs:/mnt/data/raw_data/movies_schema.csv",
         "movies_schema.csv",
         20,
         1725437651000
        ],
        [
         "dbfs:/mnt/data/raw_data/ratings.csv",
         "ratings.csv",
         933898879,
         1724838037000
        ],
        [
         "dbfs:/mnt/data/raw_data/ratings_schema.csv",
         "ratings_schema.csv",
         32,
         1725437651000
        ]
       ],
       "datasetInfos": [],
       "dbfsResultPath": null,
       "isJsonSchema": true,
       "metadata": {
        "isDbfsCommandResult": false
       },
       "overflow": false,
       "plotOptions": {
        "customPlotOptions": {},
        "displayType": "table",
        "pivotAggregation": null,
        "pivotColumns": null,
        "xColumns": null,
        "yColumns": null
       },
       "removedWidgets": [],
       "schema": [
        {
         "metadata": "{}",
         "name": "path",
         "type": "\"string\""
        },
        {
         "metadata": "{}",
         "name": "name",
         "type": "\"string\""
        },
        {
         "metadata": "{}",
         "name": "size",
         "type": "\"long\""
        },
        {
         "metadata": "{}",
         "name": "modificationTime",
         "type": "\"long\""
        }
       ],
       "type": "table"
      }
     },
     "output_type": "display_data"
    }
   ],
   "source": [
    "%fs \n",
    "ls /mnt/data/raw_data"
   ]
  },
  {
   "cell_type": "code",
   "execution_count": 0,
   "metadata": {
    "application/vnd.databricks.v1+cell": {
     "cellMetadata": {
      "byteLimit": 2048000,
      "rowLimit": 10000
     },
     "inputWidgets": {},
     "nuid": "fe178f2f-9ee6-4dac-b932-4106c847b8c2",
     "showTitle": false,
     "title": ""
    }
   },
   "outputs": [],
   "source": [
    "movies= spark.read.format('csv').option('header','true').load('/mnt/data/raw_data/movies.csv')"
   ]
  },
  {
   "cell_type": "code",
   "execution_count": 0,
   "metadata": {
    "application/vnd.databricks.v1+cell": {
     "cellMetadata": {
      "byteLimit": 2048000,
      "rowLimit": 10000
     },
     "inputWidgets": {},
     "nuid": "7ea9bdcf-1806-4e6d-add4-20e3b7b4c50a",
     "showTitle": false,
     "title": ""
    }
   },
   "outputs": [],
   "source": [
    "from pyspark.sql.types import *\n"
   ]
  },
  {
   "cell_type": "code",
   "execution_count": 0,
   "metadata": {
    "application/vnd.databricks.v1+cell": {
     "cellMetadata": {
      "byteLimit": 2048000,
      "rowLimit": 10000
     },
     "inputWidgets": {},
     "nuid": "c121143f-1570-427a-96a8-9fb7bafebf3d",
     "showTitle": false,
     "title": ""
    }
   },
   "outputs": [
    {
     "output_type": "stream",
     "name": "stdout",
     "output_type": "stream",
     "text": [
      "root\n |-- movieId: string (nullable = true)\n |-- title: string (nullable = true)\n |-- genres: string (nullable = true)\n\n"
     ]
    }
   ],
   "source": [
    "movies= spark.read.format('csv').option('header','true').load('/mnt/data/raw_data/movies.csv')\n",
    "movies.printSchema()"
   ]
  },
  {
   "cell_type": "code",
   "execution_count": 0,
   "metadata": {
    "application/vnd.databricks.v1+cell": {
     "cellMetadata": {
      "byteLimit": 2048000,
      "rowLimit": 10000
     },
     "inputWidgets": {},
     "nuid": "f0a74694-bc90-4a49-a977-00d05077542d",
     "showTitle": false,
     "title": ""
    }
   },
   "outputs": [
    {
     "output_type": "stream",
     "name": "stdout",
     "output_type": "stream",
     "text": [
      "root\n |-- movieId: string (nullable = true)\n |-- title: string (nullable = true)\n |-- genres: string (nullable = true)\n\n"
     ]
    }
   ],
   "source": [
    "movies= spark.read.format('csv').option('header','true').load('/mnt/data/raw_data/movies.csv')\n",
    "movies.printSchema()"
   ]
  },
  {
   "cell_type": "code",
   "execution_count": 0,
   "metadata": {
    "application/vnd.databricks.v1+cell": {
     "cellMetadata": {
      "byteLimit": 2048000,
      "rowLimit": 10000
     },
     "inputWidgets": {},
     "nuid": "1f1d8e5d-cf75-4c38-8585-dbaa0128e205",
     "showTitle": false,
     "title": ""
    }
   },
   "outputs": [],
   "source": [
    "#defining the structure\n",
    "movies_with_gen=StructType(\n",
    "    [StructField('movieId',IntegerType()),\n",
    "     StructField('title',StringType()),\n",
    "     StructField('genres',StringType())\n",
    "]    \n",
    ")\n",
    "movies_without_gen=StructType(\n",
    "    [StructField('movieId',IntegerType()),\n",
    "     StructField('title',StringType()),\n",
    "]    \n",
    ")\n",
    "#creating the dataframe \n",
    "movies_with_gendf=sqlContext.read.format('csv').options(header=True, inferSchema=False).schema(movies_with_gen).load('/mnt/data/raw_data/movies.csv')\n",
    "movies_without_gendf=sqlContext.read.format('csv').options(header=True, inferSchema=False).schema(movies_without_gen).load('/mnt/data/raw_data/movies.csv')"
   ]
  },
  {
   "cell_type": "code",
   "execution_count": 0,
   "metadata": {
    "application/vnd.databricks.v1+cell": {
     "cellMetadata": {
      "byteLimit": 2048000,
      "rowLimit": 10000
     },
     "inputWidgets": {},
     "nuid": "11459f1d-642d-47e5-bd7e-b4bee9af0eb1",
     "showTitle": false,
     "title": ""
    }
   },
   "outputs": [
    {
     "output_type": "stream",
     "name": "stdout",
     "output_type": "stream",
     "text": [
      "+-------+--------------------+--------------------+\n|movieId|               title|              genres|\n+-------+--------------------+--------------------+\n|      1|    Toy Story (1995)|Adventure|Animati...|\n|      2|      Jumanji (1995)|Adventure|Childre...|\n|      3|Grumpier Old Men ...|      Comedy|Romance|\n|      4|Waiting to Exhale...|Comedy|Drama|Romance|\n|      5|Father of the Bri...|              Comedy|\n|      6|         Heat (1995)|Action|Crime|Thri...|\n|      7|      Sabrina (1995)|      Comedy|Romance|\n|      8| Tom and Huck (1995)|  Adventure|Children|\n|      9| Sudden Death (1995)|              Action|\n|     10|    GoldenEye (1995)|Action|Adventure|...|\n|     11|American Presiden...|Comedy|Drama|Romance|\n|     12|Dracula: Dead and...|       Comedy|Horror|\n|     13|        Balto (1995)|Adventure|Animati...|\n|     14|        Nixon (1995)|               Drama|\n|     15|Cutthroat Island ...|Action|Adventure|...|\n|     16|       Casino (1995)|         Crime|Drama|\n|     17|Sense and Sensibi...|       Drama|Romance|\n|     18|   Four Rooms (1995)|              Comedy|\n|     19|Ace Ventura: When...|              Comedy|\n|     20|  Money Train (1995)|Action|Comedy|Cri...|\n+-------+--------------------+--------------------+\nonly showing top 20 rows\n\n"
     ]
    }
   ],
   "source": [
    "movies_with_gendf.show()\n"
   ]
  },
  {
   "cell_type": "code",
   "execution_count": 0,
   "metadata": {
    "application/vnd.databricks.v1+cell": {
     "cellMetadata": {
      "byteLimit": 2048000,
      "rowLimit": 10000
     },
     "inputWidgets": {},
     "nuid": "26682991-9a07-446d-96e1-9da49f228e28",
     "showTitle": false,
     "title": ""
    }
   },
   "outputs": [
    {
     "output_type": "stream",
     "name": "stdout",
     "output_type": "stream",
     "text": [
      "+-------+--------------------+\n|movieId|               title|\n+-------+--------------------+\n|      1|    Toy Story (1995)|\n|      2|      Jumanji (1995)|\n|      3|Grumpier Old Men ...|\n|      4|Waiting to Exhale...|\n|      5|Father of the Bri...|\n|      6|         Heat (1995)|\n|      7|      Sabrina (1995)|\n|      8| Tom and Huck (1995)|\n|      9| Sudden Death (1995)|\n|     10|    GoldenEye (1995)|\n|     11|American Presiden...|\n|     12|Dracula: Dead and...|\n|     13|        Balto (1995)|\n|     14|        Nixon (1995)|\n|     15|Cutthroat Island ...|\n|     16|       Casino (1995)|\n|     17|Sense and Sensibi...|\n|     18|   Four Rooms (1995)|\n|     19|Ace Ventura: When...|\n|     20|  Money Train (1995)|\n+-------+--------------------+\nonly showing top 20 rows\n\n"
     ]
    }
   ],
   "source": [
    "movies_without_gendf.show()"
   ]
  },
  {
   "cell_type": "code",
   "execution_count": 0,
   "metadata": {
    "application/vnd.databricks.v1+cell": {
     "cellMetadata": {
      "byteLimit": 2048000,
      "rowLimit": 10000
     },
     "inputWidgets": {},
     "nuid": "aefb7290-5458-4c6c-889c-c853a4479b1e",
     "showTitle": false,
     "title": ""
    }
   },
   "outputs": [
    {
     "output_type": "execute_result",
     "data": {
      "text/plain": [
       "DataFrame[movieId: int, title: string]"
      ]
     },
     "execution_count": 21,
     "metadata": {},
     "output_type": "execute_result"
    }
   ],
   "source": [
    "#caching (putting in the memory) the dataset so that the operations can be performed quickly\n",
    "movies_with_gendf.cache()\n",
    "movies_without_gendf.cache()"
   ]
  },
  {
   "cell_type": "code",
   "execution_count": 0,
   "metadata": {
    "application/vnd.databricks.v1+cell": {
     "cellMetadata": {
      "byteLimit": 2048000,
      "rowLimit": 10000
     },
     "inputWidgets": {},
     "nuid": "024e0fd7-d849-4657-9999-88cada2a642a",
     "showTitle": false,
     "title": ""
    }
   },
   "outputs": [
    {
     "output_type": "stream",
     "name": "stdout",
     "output_type": "stream",
     "text": [
      "+-------+--------------------+\n|movieId|               title|\n+-------+--------------------+\n|      1|    Toy Story (1995)|\n|      2|      Jumanji (1995)|\n|      3|Grumpier Old Men ...|\n|      4|Waiting to Exhale...|\n|      5|Father of the Bri...|\n|      6|         Heat (1995)|\n|      7|      Sabrina (1995)|\n|      8| Tom and Huck (1995)|\n|      9| Sudden Death (1995)|\n|     10|    GoldenEye (1995)|\n|     11|American Presiden...|\n|     12|Dracula: Dead and...|\n|     13|        Balto (1995)|\n|     14|        Nixon (1995)|\n|     15|Cutthroat Island ...|\n|     16|       Casino (1995)|\n|     17|Sense and Sensibi...|\n|     18|   Four Rooms (1995)|\n|     19|Ace Ventura: When...|\n|     20|  Money Train (1995)|\n+-------+--------------------+\nonly showing top 20 rows\n\n"
     ]
    }
   ],
   "source": [
    "movies_without_gendf.show()"
   ]
  },
  {
   "cell_type": "code",
   "execution_count": 0,
   "metadata": {
    "application/vnd.databricks.v1+cell": {
     "cellMetadata": {
      "byteLimit": 2048000,
      "rowLimit": 10000
     },
     "inputWidgets": {},
     "nuid": "f56cef97-95a0-4354-a6ba-7dabab361472",
     "showTitle": false,
     "title": ""
    }
   },
   "outputs": [],
   "source": [
    "ratings_struct=StructType(\n",
    "    [StructField('userId',IntegerType()),\n",
    "     StructField('movieId',IntegerType()),\n",
    "     StructField('rating',DoubleType())\n",
    "    ]\n",
    ")\n",
    "#creating the dataframe of the ratings\n",
    "ratings_df=sqlContext.read.format('csv').options(header=True, inferSchema=False).schema(ratings_struct).load('/mnt/data/raw_data/ratings.csv')"
   ]
  },
  {
   "cell_type": "code",
   "execution_count": 0,
   "metadata": {
    "application/vnd.databricks.v1+cell": {
     "cellMetadata": {
      "byteLimit": 2048000,
      "rowLimit": 10000
     },
     "inputWidgets": {},
     "nuid": "ea2a7a49-d7a0-46a2-81a3-132d3a23c994",
     "showTitle": false,
     "title": ""
    }
   },
   "outputs": [
    {
     "output_type": "stream",
     "name": "stdout",
     "output_type": "stream",
     "text": [
      "+------+-------+------+\n|userId|movieId|rating|\n+------+-------+------+\n|     1|      1|   4.0|\n|     1|    110|   4.0|\n|     1|    158|   4.0|\n|     1|    260|   4.5|\n|     1|    356|   5.0|\n|     1|    381|   3.5|\n|     1|    596|   4.0|\n|     1|   1036|   5.0|\n|     1|   1049|   3.0|\n|     1|   1066|   4.0|\n|     1|   1196|   3.5|\n|     1|   1200|   3.5|\n|     1|   1210|   4.5|\n|     1|   1214|   4.0|\n|     1|   1291|   5.0|\n|     1|   1293|   2.0|\n|     1|   1376|   3.0|\n|     1|   1396|   3.0|\n|     1|   1537|   4.0|\n|     1|   1909|   3.0|\n+------+-------+------+\nonly showing top 20 rows\n\n"
     ]
    },
    {
     "output_type": "execute_result",
     "data": {
      "text/plain": [
       "DataFrame[userId: int, movieId: int, rating: double]"
      ]
     },
     "execution_count": 28,
     "metadata": {},
     "output_type": "execute_result"
    }
   ],
   "source": [
    "ratings_df.show()\n",
    "ratings_df.cache()"
   ]
  },
  {
   "cell_type": "code",
   "execution_count": 0,
   "metadata": {
    "application/vnd.databricks.v1+cell": {
     "cellMetadata": {
      "byteLimit": 2048000,
      "rowLimit": 10000
     },
     "inputWidgets": {},
     "nuid": "cb5da7f0-ee90-4331-be71-cf6460ea4e09",
     "showTitle": false,
     "title": ""
    }
   },
   "outputs": [
    {
     "output_type": "stream",
     "name": "stdout",
     "output_type": "stream",
     "text": [
      "+-------+-----+\n|movieId|count|\n+-------+-----+\n|   1959| 6278|\n|   1591| 6882|\n|   1580|49951|\n|   1645|17633|\n|  44022| 6725|\n|   3175|18507|\n|  32460| 1033|\n| 280218|  907|\n|    148|  380|\n|    471|12745|\n|   8638| 6600|\n|  96488| 1881|\n|    496|  433|\n|   1088|15429|\n|   2366| 8592|\n|   3918| 1756|\n|   1342| 4602|\n|  54190| 3049|\n|   7833|  365|\n|  31983|   48|\n+-------+-----+\nonly showing top 20 rows\n\n"
     ]
    }
   ],
   "source": [
    "value_counts_df = ratings_df.groupBy(\"movieId\").count()\n",
    "value_counts_df.show()"
   ]
  },
  {
   "cell_type": "code",
   "execution_count": 0,
   "metadata": {
    "application/vnd.databricks.v1+cell": {
     "cellMetadata": {
      "byteLimit": 2048000,
      "rowLimit": 10000
     },
     "inputWidgets": {},
     "nuid": "747368cd-6239-4487-8ff1-5b9c7f9501e0",
     "showTitle": false,
     "title": ""
    }
   },
   "outputs": [
    {
     "output_type": "stream",
     "name": "stdout",
     "output_type": "stream",
     "text": [
      "+-------+-----+------------------+\n|movieId|count|               avg|\n+-------+-----+------------------+\n|   1959| 6278| 3.633800573431029|\n|   1591| 6882|2.6484306887532694|\n|   1580|49951| 3.595333426758223|\n|   1645|17633|  3.56697669143084|\n|  44022| 6725|3.2430483271375463|\n|   3175|18507| 3.602825957745718|\n|  32460| 1033|4.0208131655372705|\n| 280218|  907|3.4652701212789414|\n|    148|  380|               2.9|\n|    471|12745| 3.651588858375834|\n|   8638| 6600| 4.005075757575757|\n|  96488| 1881| 3.993886230728336|\n|    496|  433|3.3140877598152425|\n|   1088|15429| 3.274450709702508|\n|   2366| 8592|3.4753840782122905|\n|   3918| 1756| 3.014236902050114|\n|   1342| 4602|  3.02922642329422|\n|  54190| 3049| 3.552968186290587|\n|   7833|  365| 3.819178082191781|\n|  31983|   48|           3.53125|\n+-------+-----+------------------+\nonly showing top 20 rows\n\n"
     ]
    }
   ],
   "source": [
    "from pyspark.sql import functions as F\n",
    "movie_ids_avg_ratings_df= ratings_df.groupBy('movieId').agg(\n",
    "    F.count(ratings_df.rating).alias('count'),\n",
    "    F.avg(ratings_df.rating).alias('avg'))\n",
    "movie_ids_avg_ratings_df.show()"
   ]
  },
  {
   "cell_type": "code",
   "execution_count": 0,
   "metadata": {
    "application/vnd.databricks.v1+cell": {
     "cellMetadata": {
      "byteLimit": 2048000,
      "rowLimit": 10000
     },
     "inputWidgets": {},
     "nuid": "5539cad7-606f-4985-9c81-93028bf9bfcc",
     "showTitle": false,
     "title": ""
    }
   },
   "outputs": [
    {
     "output_type": "stream",
     "name": "stdout",
     "output_type": "stream",
     "text": [
      "+-------+-----+------------------+--------------------+\n|movieId|count|               avg|               title|\n+-------+-----+------------------+--------------------+\n|   1959| 6278| 3.633800573431029|Out of Africa (1985)|\n|   1591| 6882|2.6484306887532694|        Spawn (1997)|\n|   1580|49951| 3.595333426758223|Men in Black (a.k...|\n|   1645|17633|  3.56697669143084|The Devil's Advoc...|\n|  44022| 6725|3.2430483271375463|Ice Age 2: The Me...|\n|   3175|18507| 3.602825957745718| Galaxy Quest (1999)|\n|  32460| 1033|4.0208131655372705|Knockin' on Heave...|\n| 280218|  907|3.4652701212789414|Avatar: The Way o...|\n|    148|  380|               2.9|Awfully Big Adven...|\n|    471|12745| 3.651588858375834|Hudsucker Proxy, ...|\n|   8638| 6600| 4.005075757575757|Before Sunset (2004)|\n|  96488| 1881| 3.993886230728336|Searching for Sug...|\n|    496|  433|3.3140877598152425|What Happened Was...|\n|   1088|15429| 3.274450709702508|Dirty Dancing (1987)|\n|   2366| 8592|3.4753840782122905|    King Kong (1933)|\n|   3918| 1756| 3.014236902050114|Hellbound: Hellra...|\n|   1342| 4602|  3.02922642329422|     Candyman (1992)|\n|  54190| 3049| 3.552968186290587|Across the Univer...|\n|   7833|  365| 3.819178082191781|Shadow of the Thi...|\n|  31983|   48|           3.53125|Sicilian Clan, Th...|\n+-------+-----+------------------+--------------------+\nonly showing top 20 rows\n\n"
     ]
    }
   ],
   "source": [
    "movies = movies.withColumn(\"movieId\", F.col(\"movieId\").cast(\"integer\"))\n",
    "movie_named_avg_ratings_df = movie_ids_avg_ratings_df.join(movies, on=\"movieId\", how=\"inner\")\n",
    "movie_named_avg_ratings_df = movie_named_avg_ratings_df.select(\"movieId\", \"count\", \"avg\", \"title\")\n",
    "movie_named_avg_ratings_df.show()"
   ]
  },
  {
   "cell_type": "code",
   "execution_count": 0,
   "metadata": {
    "application/vnd.databricks.v1+cell": {
     "cellMetadata": {
      "byteLimit": 2048000,
      "rowLimit": 10000
     },
     "inputWidgets": {},
     "nuid": "4e30017e-6f71-47fd-8ca9-a3610eb03c8d",
     "showTitle": false,
     "title": ""
    }
   },
   "outputs": [],
   "source": [
    "# spilitting the data \n",
    "split_60_df, split_20_val, split_20_test= ratings_df.randomSplit([0.6, 0.2, 0.2], seed=4)\n",
    "#caching the dataset\n",
    "training_df=split_60_df.cache()\n",
    "validation_df=split_20_val.cache()\n",
    "test_df=split_20_test.cache()"
   ]
  },
  {
   "cell_type": "code",
   "execution_count": 0,
   "metadata": {
    "application/vnd.databricks.v1+cell": {
     "cellMetadata": {
      "byteLimit": 2048000,
      "rowLimit": 10000
     },
     "inputWidgets": {},
     "nuid": "e5552a67-b079-4aa0-ae1e-31074a3fd4fd",
     "showTitle": false,
     "title": ""
    }
   },
   "outputs": [
    {
     "output_type": "stream",
     "name": "stdout",
     "output_type": "stream",
     "text": [
      "Best rank: 5\nBest maxIter: 5\nBest regParam: 0.01\n"
     ]
    }
   ],
   "source": [
    "from pyspark.ml.recommendation import ALS \n",
    "from pyspark.ml.evaluation import RegressionEvaluator\n",
    "from pyspark.ml.tuning import ParamGridBuilder, CrossValidator\n",
    "#creating the ALS model\n",
    "als= ALS()\n",
    "#als.setPredictionCol('prediction')\\\n",
    "#    .setMaxIter(5)\\\n",
    "#    .setRegParam(0.1)\\\n",
    "#    .setSeed(4)\\\n",
    "#    .setUserCol('userId')\\\n",
    "#    .setItemCol('movieId')\\\n",
    "#    .setRatingCol('rating')\\\n",
    "#    .setRank(8)\n",
    "#training the model with the parametrs     \n",
    "#rating_model=als.fit(training_df)    \n",
    "\n",
    "#setting the parameters\n",
    "als = ALS(userCol=\"userId\", itemCol=\"movieId\", ratingCol=\"rating\",seed=4)\n",
    "# Create a parameter grid for hyperparameter tuning\n",
    "paramGrid = ParamGridBuilder() \\\n",
    "    .addGrid(als.rank, [5, 10]) \\\n",
    "    .addGrid(als.maxIter, [5, 10]) \\\n",
    "    .addGrid(als.regParam, [0.01, 0.1]) \\\n",
    "    .build()\n",
    "#defining an evaluator based on RMSE    \n",
    "evaluator = RegressionEvaluator(metricName=\"rmse\", labelCol=\"rating\", predictionCol=\"prediction\")\n",
    "\n",
    "# Set up CrossValidator\n",
    "crossval = CrossValidator(estimator=als,\n",
    "                          estimatorParamMaps=paramGrid,\n",
    "                          evaluator=evaluator,\n",
    "                          numFolds=2)  # 3-fold cross-validation\n",
    "\n",
    "# Fit the cross-validator to the training data\n",
    "cvModel = crossval.fit(training_df)\n",
    "\n",
    "# Get the best model\n",
    "bestModel = cvModel.bestModel\n",
    "\n",
    "# Print the best parameters\n",
    "print(f\"Best rank: {bestModel._java_obj.parent().getRank()}\")\n",
    "print(f\"Best maxIter: {bestModel._java_obj.parent().getMaxIter()}\")\n",
    "print(f\"Best regParam: {bestModel._java_obj.parent().getRegParam()}\")\n"
   ]
  },
  {
   "cell_type": "code",
   "execution_count": 0,
   "metadata": {
    "application/vnd.databricks.v1+cell": {
     "cellMetadata": {
      "byteLimit": 2048000,
      "rowLimit": 10000
     },
     "inputWidgets": {},
     "nuid": "5bacc370-9111-46f9-b3ef-a4770b4c43d7",
     "showTitle": false,
     "title": ""
    }
   },
   "outputs": [
    {
     "output_type": "stream",
     "name": "stdout",
     "output_type": "stream",
     "text": [
      "RMSE of the model is 0.8568895268965767\n"
     ]
    }
   ],
   "source": [
    "als_optimised= ALS()\n",
    "als_optimised.setPredictionCol('prediction')\\\n",
    "    .setMaxIter(5)\\\n",
    "    .setRegParam(0.01)\\\n",
    "    .setSeed(4)\\\n",
    "    .setUserCol('userId')\\\n",
    "    .setItemCol('movieId')\\\n",
    "    .setRatingCol('rating')\\\n",
    "    .setRank(5)\n",
    "#fiting the model with the optimised parametrs     \n",
    "rating_model=als_optimised.fit(training_df)    \n",
    "#making the predictions\n",
    "prediction=rating_model.transform(test_df)\n",
    "#removing nan values from prediction to be able to focus only on the subset \n",
    "#of data data where the model was able to make predictions\n",
    "predicted_test_df= prediction.filter(prediction.prediction!=float('nan'))\n",
    "#runing the created RMSE evaluator on the dataframe with no nan values\n",
    "test_RMSE_rating=evaluator.evaluate(predicted_test_df)\n",
    "print(f\"RMSE of the model is {test_RMSE_rating}\")"
   ]
  },
  {
   "cell_type": "code",
   "execution_count": 0,
   "metadata": {
    "application/vnd.databricks.v1+cell": {
     "cellMetadata": {
      "byteLimit": 2048000,
      "rowLimit": 10000
     },
     "inputWidgets": {},
     "nuid": "ef06dd62-3df6-41ed-8d25-edaf51d85621",
     "showTitle": false,
     "title": ""
    }
   },
   "outputs": [],
   "source": [
    "from pyspark.sql.functions import col\n",
    "dbutils.widgets.text\n",
    "('input','5','')\n",
    "ins=dbutils.widgets.get('input')\n",
    "uid=int(ins)\n",
    "ll=predicted_test_df.filter(col('userId')==uid)"
   ]
  },
  {
   "cell_type": "code",
   "execution_count": 0,
   "metadata": {
    "application/vnd.databricks.v1+cell": {
     "cellMetadata": {
      "byteLimit": 2048000,
      "rowLimit": 10000
     },
     "inputWidgets": {},
     "nuid": "8b26a4af-de6d-4dca-9e7e-e4ff3c30dc88",
     "showTitle": false,
     "title": ""
    }
   },
   "outputs": [
    {
     "output_type": "stream",
     "name": "stdout",
     "output_type": "stream",
     "text": [
      "+------+-------+------+----------+\n|userId|movieId|rating|prediction|\n+------+-------+------+----------+\n|    10|     32|   4.0| 3.4483633|\n|    10|    541|   5.0| 3.4616694|\n|    10|    780|   3.5| 3.1748996|\n|    10|   1196|   4.5| 3.3216083|\n|    10|   1201|   3.5| 3.7530122|\n|    10|   1210|   4.0| 3.2875896|\n|    10|   1247|   3.5|  3.563126|\n|    10|   2019|   3.0|  3.773831|\n|    10|   2959|   3.5| 3.7406516|\n|    10|   3087|   2.5| 3.3503993|\n|    10|   4275|   1.0|  3.129175|\n|    10|   5952|   3.5| 3.4122415|\n|    10|   6874|   4.5|  3.378316|\n|    10|   8644|   3.0|  3.357832|\n|    10|   8961|   3.5| 3.3258824|\n|    10|  27831|   3.5| 3.6507154|\n|    10|  44022|   3.0| 3.0889807|\n|    10|  49272|   4.5| 3.5249639|\n|    10|  53121|   2.0| 2.8210065|\n|    10|  68157|   3.5| 3.6133637|\n+------+-------+------+----------+\nonly showing top 20 rows\n\n"
     ]
    }
   ],
   "source": [
    "ll.show()"
   ]
  },
  {
   "cell_type": "code",
   "execution_count": 0,
   "metadata": {
    "application/vnd.databricks.v1+cell": {
     "cellMetadata": {
      "byteLimit": 2048000,
      "rowLimit": 10000
     },
     "inputWidgets": {},
     "nuid": "2e0e7c3f-36a7-4be1-9269-e9e76b39f3ed",
     "showTitle": false,
     "title": ""
    }
   },
   "outputs": [],
   "source": [
    "#getting the name of the movie recommandations\n",
    "from pyspark.sql import functions as F\n",
    "MovieRec = ll.join( movies,ll['movieId'] == movies['movieId']).drop(ll['movieId']\n",
    ").select('title').take(10)"
   ]
  },
  {
   "cell_type": "code",
   "execution_count": 0,
   "metadata": {
    "application/vnd.databricks.v1+cell": {
     "cellMetadata": {
      "byteLimit": 2048000,
      "rowLimit": 10000
     },
     "inputWidgets": {},
     "nuid": "ff0303f8-4217-41d7-94df-d6536eac0fce",
     "showTitle": false,
     "title": ""
    }
   },
   "outputs": [
    {
     "output_type": "execute_result",
     "data": {
      "text/plain": [
       "[Row(title='Twelve Monkeys (a.k.a. 12 Monkeys) (1995)'),\n",
       " Row(title='Blade Runner (1982)'),\n",
       " Row(title='Independence Day (a.k.a. ID4) (1996)'),\n",
       " Row(title='Star Wars: Episode V - The Empire Strikes Back (1980)'),\n",
       " Row(title='Good, the Bad and the Ugly, The (Buono, il brutto, il cattivo, Il) (1966)'),\n",
       " Row(title='Star Wars: Episode VI - Return of the Jedi (1983)'),\n",
       " Row(title='Graduate, The (1967)'),\n",
       " Row(title='Seven Samurai (Shichinin no samurai) (1954)'),\n",
       " Row(title='Fight Club (1999)'),\n",
       " Row(title='Scrooged (1988)')]"
      ]
     },
     "execution_count": 49,
     "metadata": {},
     "output_type": "execute_result"
    }
   ],
   "source": [
    "MovieRec"
   ]
  },
  {
   "cell_type": "code",
   "execution_count": 0,
   "metadata": {
    "application/vnd.databricks.v1+cell": {
     "cellMetadata": {
      "byteLimit": 2048000,
      "rowLimit": 10000
     },
     "inputWidgets": {},
     "nuid": "88a5fc5d-fdd6-4a1f-a84a-1290aba191fd",
     "showTitle": false,
     "title": ""
    }
   },
   "outputs": [],
   "source": [
    "l=dbutils.notebook.exit(MovieRec)"
   ]
  }
 ],
 "metadata": {
  "application/vnd.databricks.v1+notebook": {
   "dashboards": [],
   "environmentMetadata": {
    "base_environment": "",
    "client": "1"
   },
   "language": "python",
   "notebookMetadata": {
    "mostRecentlyExecutedCommandWithImplicitDF": {
     "commandId": 521992993741327,
     "dataframes": [
      "_sqldf"
     ]
    },
    "pythonIndentUnit": 4
   },
   "notebookName": "Building The Model",
   "widgets": {
    "input": {
     "currentValue": "10",
     "nuid": "8e6979fe-c16e-415d-97a7-4a2c37503858",
     "typedWidgetInfo": {
      "autoCreated": false,
      "defaultValue": "5",
      "label": "",
      "name": "input",
      "options": {
       "widgetDisplayType": "Text",
       "validationRegex": null
      },
      "parameterDataType": "String"
     },
     "widgetInfo": {
      "widgetType": "text",
      "defaultValue": "5",
      "label": "",
      "name": "input",
      "options": {
       "widgetType": "text",
       "autoCreated": null,
       "validationRegex": null
      }
     }
    }
   }
  }
 },
 "nbformat": 4,
 "nbformat_minor": 0
}
