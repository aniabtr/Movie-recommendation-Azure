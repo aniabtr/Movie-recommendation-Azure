{
 "cells": [
  {
   "cell_type": "code",
   "execution_count": 0,
   "metadata": {
    "application/vnd.databricks.v1+cell": {
     "cellMetadata": {
      "byteLimit": 2048000,
      "rowLimit": 10000
     },
     "inputWidgets": {},
     "nuid": "f683c2b7-1431-4ad1-b983-4968cfc11616",
     "showTitle": false,
     "title": ""
    }
   },
   "outputs": [
    {
     "output_type": "display_data",
     "data": {
      "text/plain": [
       "'[REDACTED]'"
      ]
     },
     "metadata": {},
     "output_type": "display_data"
    }
   ],
   "source": [
    "#dbutils.secrets.get(scope=\"MovieRecScope\", key=\"clientid\")\n",
    "secrets = dbutils.secrets.get(scope=\"MovieRecScope1\", key='clientId')\n",
    "\n",
    "# Display the secrets\n",
    "display(secrets)"
   ]
  },
  {
   "cell_type": "code",
   "execution_count": 0,
   "metadata": {
    "application/vnd.databricks.v1+cell": {
     "cellMetadata": {
      "byteLimit": 2048000,
      "rowLimit": 10000
     },
     "inputWidgets": {},
     "nuid": "c290dce6-6b2a-493a-9c53-3c0bd6de77e9",
     "showTitle": false,
     "title": ""
    }
   },
   "outputs": [],
   "source": [
    "accountname='movierecomanderproject01'\n",
    "containername='movierecommanderporjectcontainer'\n",
    "mountPoint='/mnt/data'\n",
    "#app(client) id\n",
    "applicationId=dbutils.secrets.get(scope='MovieRecScope1', key='clientId')\n",
    "#app(client) secret key\n",
    "authenticationIdKey=dbutils.secrets.get(scope='MovieRecScope1', key='secretvalue')\n",
    "#directory (tenant) id\n",
    "tenantId=dbutils.secrets.get(scope='MovieRecScope1', key='tenantId')\n",
    "endpoint='https://login.microsoftonline.com/'+tenantId+'/oauth2/token'\n",
    "source = f'abfss://{containername}@{accountname}.dfs.core.windows.net/'\n",
    "#connecting usig Service principle secrets and 0Auth\n",
    "configs={\n",
    "    'fs.azure.account.auth.type': 'OAuth',\n",
    "    'fs.azure.account.oauth.provider.type': 'org.apache.hadoop.fs.azurebfs.oauth2.ClientCredsTokenProvider',\n",
    "    'fs.azure.account.oauth2.client.id': applicationId,\n",
    "    'fs.azure.account.oauth2.client.secret': authenticationIdKey,\n",
    "    'fs.azure.account.oauth2.client.endpoint': endpoint,\n",
    "}\n",
    "#mounting the AzureDataLakeStorage to DatabricksFileSystem\n",
    "if not any(mount.mountPoint == mountPoint for mount in dbutils.fs.mounts()):\n",
    "    dbutils.fs.mount(\n",
    "        source = source,\n",
    "        mount_point = mountPoint,\n",
    "        extra_configs = configs\n",
    "    )"
   ]
  },
  {
   "cell_type": "code",
   "execution_count": 0,
   "metadata": {
    "application/vnd.databricks.v1+cell": {
     "cellMetadata": {
      "byteLimit": 2048000,
      "rowLimit": 10000
     },
     "inputWidgets": {},
     "nuid": "14dd83c5-b3c8-44f3-9e9d-f99eae7ef90d",
     "showTitle": false,
     "title": ""
    }
   },
   "outputs": [
    {
     "output_type": "display_data",
     "data": {
      "text/html": [
       "<style scoped>\n",
       "  .table-result-container {\n",
       "    max-height: 300px;\n",
       "    overflow: auto;\n",
       "  }\n",
       "  table, th, td {\n",
       "    border: 1px solid black;\n",
       "    border-collapse: collapse;\n",
       "  }\n",
       "  th, td {\n",
       "    padding: 5px;\n",
       "  }\n",
       "  th {\n",
       "    text-align: left;\n",
       "  }\n",
       "</style><div class='table-result-container'><table class='table-result'><thead style='background-color: white'><tr><th>path</th><th>name</th><th>size</th><th>modificationTime</th></tr></thead><tbody><tr><td>dbfs:/mnt/data/data/genome-tags.csv</td><td>genome-tags.csv</td><td>18103</td><td>1724837985000</td></tr><tr><td>dbfs:/mnt/data/data/movies.csv</td><td>movies.csv</td><td>4192335</td><td>1724837986000</td></tr><tr><td>dbfs:/mnt/data/data/ratings.csv</td><td>ratings.csv</td><td>933898879</td><td>1724838037000</td></tr></tbody></table></div>"
      ]
     },
     "metadata": {
      "application/vnd.databricks.v1+output": {
       "addedWidgets": {},
       "aggData": [],
       "aggError": "",
       "aggOverflow": false,
       "aggSchema": [],
       "aggSeriesLimitReached": false,
       "aggType": "",
       "arguments": {},
       "columnCustomDisplayInfos": {},
       "data": [
        [
         "dbfs:/mnt/data/data/genome-tags.csv",
         "genome-tags.csv",
         18103,
         1724837985000
        ],
        [
         "dbfs:/mnt/data/data/movies.csv",
         "movies.csv",
         4192335,
         1724837986000
        ],
        [
         "dbfs:/mnt/data/data/ratings.csv",
         "ratings.csv",
         933898879,
         1724838037000
        ]
       ],
       "datasetInfos": [],
       "dbfsResultPath": null,
       "isJsonSchema": true,
       "metadata": {
        "isDbfsCommandResult": false
       },
       "overflow": false,
       "plotOptions": {
        "customPlotOptions": {},
        "displayType": "table",
        "pivotAggregation": null,
        "pivotColumns": null,
        "xColumns": null,
        "yColumns": null
       },
       "removedWidgets": [],
       "schema": [
        {
         "metadata": "{}",
         "name": "path",
         "type": "\"string\""
        },
        {
         "metadata": "{}",
         "name": "name",
         "type": "\"string\""
        },
        {
         "metadata": "{}",
         "name": "size",
         "type": "\"long\""
        },
        {
         "metadata": "{}",
         "name": "modificationTime",
         "type": "\"long\""
        }
       ],
       "type": "table"
      }
     },
     "output_type": "display_data"
    }
   ],
   "source": [
    "%fs ls /mnt/data/data"
   ]
  }
 ],
 "metadata": {
  "application/vnd.databricks.v1+notebook": {
   "dashboards": [],
   "environmentMetadata": {
    "base_environment": "",
    "client": "1"
   },
   "language": "python",
   "notebookMetadata": {
    "mostRecentlyExecutedCommandWithImplicitDF": {
     "commandId": 1473122710706382,
     "dataframes": [
      "_sqldf"
     ]
    },
    "pythonIndentUnit": 4
   },
   "notebookName": "mounting",
   "widgets": {}
  }
 },
 "nbformat": 4,
 "nbformat_minor": 0
}
